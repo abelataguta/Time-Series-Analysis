{
 "cells": [
  {
   "cell_type": "code",
   "execution_count": null,
   "id": "b5877da2",
   "metadata": {},
   "outputs": [
    {
     "name": "stdout",
     "output_type": "stream",
     "text": [
      "Enter Number.please Enter 0 to exit\n"
     ]
    }
   ],
   "source": [
    "num=1\n",
    "sum=0\n",
    "print(\"Enter Number.please Enter 0 to exit\")\n",
    "\n",
    "while num!=0:\n",
    "    num = float(input(\"Enter number ?\"))\n",
    "    sum=sum+num\n",
    "    #print('sum',sum)\n",
    "else:\n",
    "    print(\"End while loop\")\n",
    "    \n",
    "i=0\n",
    "while i<5:\n",
    "    print(\"the value of i is :\")\n",
    "    i+=1\n",
    "else:\n",
    "    print(\"Finished whille loop\")"
   ]
  },
  {
   "cell_type": "code",
   "execution_count": null,
   "id": "c0b486f4",
   "metadata": {},
   "outputs": [],
   "source": [
    "A = [0,1,2,3,4,5]\n",
    "B = (0,1,2,3,4,5)\n",
    "C = {0,1,2,3,4,5}\n",
    "D = '012345'\n",
    "E = {\"name\":'max',\"age\":20}\n",
    "\n",
    "for x in A:\n",
    "    print(x)"
   ]
  },
  {
   "cell_type": "code",
   "execution_count": null,
   "id": "226190fa",
   "metadata": {},
   "outputs": [],
   "source": [
    "for key,value in E.items:\n",
    "    print(key,',value')"
   ]
  },
  {
   "cell_type": "code",
   "execution_count": null,
   "id": "ebdc9fb1",
   "metadata": {},
   "outputs": [],
   "source": [
    "for x in range(6):\n",
    "    print(x)"
   ]
  },
  {
   "cell_type": "code",
   "execution_count": null,
   "id": "710901d9",
   "metadata": {},
   "outputs": [],
   "source": [
    "a=[0,1,2,3,4,4]\n",
    "for x in a:\n",
    "    if x ==3:\n",
    "        break\n",
    "    print(x)\n",
    "    \n",
    "i=0\n",
    "while i < 5:\n",
    "    if i==3:\n",
    "        break\n",
    "    \n",
    "        "
   ]
  },
  {
   "cell_type": "code",
   "execution_count": null,
   "id": "a515e0f5",
   "metadata": {},
   "outputs": [],
   "source": [
    "for x in a:\n",
    "    if x=2:\n",
    "        continue\n",
    "    print(i)\n",
    "    i +=1"
   ]
  },
  {
   "cell_type": "code",
   "execution_count": null,
   "id": "4f56a4cf",
   "metadata": {},
   "outputs": [],
   "source": [
    "while i<5:\n",
    "    if i==2:\n",
    "        continue\n",
    "    print(i)\n",
    "    i=i+i"
   ]
  },
  {
   "cell_type": "code",
   "execution_count": null,
   "id": "1f33e833",
   "metadata": {},
   "outputs": [],
   "source": [
    "# Function\n",
    "* builtin function\n",
    "* user define function"
   ]
  },
  {
   "cell_type": "code",
   "execution_count": 1,
   "id": "f239ecf2",
   "metadata": {},
   "outputs": [],
   "source": [
    "def sum(arg1,arg2):\n",
    "    print(arg1+arg2)"
   ]
  },
  {
   "cell_type": "code",
   "execution_count": 2,
   "id": "0d9d9b66",
   "metadata": {
    "scrolled": true
   },
   "outputs": [
    {
     "name": "stdout",
     "output_type": "stream",
     "text": [
      "25\n"
     ]
    }
   ],
   "source": [
    "sum(15,10)"
   ]
  },
  {
   "cell_type": "code",
   "execution_count": null,
   "id": "51353a40",
   "metadata": {},
   "outputs": [],
   "source": [
    "def sum(arg1,arg2):\n",
    "    if type(arg1!=type(arg2):\n",
    "            print(\"please give the same type\")\n",
    "            return\n",
    "    return(arg1+arg2)"
   ]
  },
  {
   "cell_type": "code",
   "execution_count": null,
   "id": "065ec2db",
   "metadata": {},
   "outputs": [],
   "source": [
    " # OOP"
   ]
  },
  {
   "cell_type": "code",
   "execution_count": 2,
   "id": "a01c1791",
   "metadata": {},
   "outputs": [
    {
     "name": "stdout",
     "output_type": "stream",
     "text": [
      "200\n",
      "red\n"
     ]
    }
   ],
   "source": [
    "class Car:\n",
    "    pass\n",
    "\n",
    "ford=Car()\n",
    "honda=Car()\n",
    "audi=Car()\n",
    "\n",
    "ford.speed=200\n",
    "honda.speed=220\n",
    "audi.speed=250\n",
    "\n",
    "ford.color='red'\n",
    "honda.color='blue'\n",
    "audi.speed='black'\n",
    "\n",
    "print(ford.speed)\n",
    "print(ford.color)"
   ]
  },
  {
   "cell_type": "code",
   "execution_count": 4,
   "id": "e8cda9b0",
   "metadata": {},
   "outputs": [
    {
     "name": "stdout",
     "output_type": "stream",
     "text": [
      "800\n"
     ]
    }
   ],
   "source": [
    "class Rectangle:\n",
    "    pass\n",
    "\n",
    "rect1=Rectangle()\n",
    "rect2=Rectangle()\n",
    "\n",
    "rect1.height=20\n",
    "rect2.height=40\n",
    "\n",
    "rect1.width=40\n",
    "rect2.width=10\n",
    "\n",
    "print(rect1.height*rect1.width)"
   ]
  },
  {
   "cell_type": "code",
   "execution_count": 13,
   "id": "cdd0c406",
   "metadata": {},
   "outputs": [
    {
     "name": "stdout",
     "output_type": "stream",
     "text": [
      "200\n",
      "red\n",
      "the__init_is called\n",
      "250\n",
      "blue\n",
      "the__init_is called\n",
      "300\n",
      "black\n",
      "the__init_is called\n"
     ]
    }
   ],
   "source": [
    "class Car:\n",
    "    def __init__(self,speed,color):\n",
    "        print(speed)\n",
    "        print(color)\n",
    "        \n",
    "        print('the__init_is called')\n",
    "        \n",
    "ford=Car(200,'red')\n",
    "honda=Car(250,'blue')\n",
    "audi=Car(300,'black')\n",
    "\n",
    "# ford.speed=200\n",
    "# honda.speed=220\n",
    "# audi.speed=250\n",
    "\n",
    "# ford.color='red'\n",
    "# honda.color='blue'\n",
    "# audi.speed='black'\n",
    "\n",
    "# print(ford.speed)\n",
    "# print(ford.color)"
   ]
  },
  {
   "cell_type": "code",
   "execution_count": 15,
   "id": "d847f6c9",
   "metadata": {},
   "outputs": [
    {
     "ename": "TypeError",
     "evalue": "__init__() missing 2 required positional arguments: 'height' and 'width'",
     "output_type": "error",
     "traceback": [
      "\u001b[0;31m---------------------------------------------------------------------------\u001b[0m",
      "\u001b[0;31mTypeError\u001b[0m                                 Traceback (most recent call last)",
      "\u001b[0;32m/tmp/ipykernel_3291/953229470.py\u001b[0m in \u001b[0;36m<module>\u001b[0;34m\u001b[0m\n\u001b[1;32m      5\u001b[0m         \u001b[0mprint\u001b[0m\u001b[0;34m(\u001b[0m\u001b[0;34m\"__init_is called\"\u001b[0m\u001b[0;34m)\u001b[0m\u001b[0;34m\u001b[0m\u001b[0;34m\u001b[0m\u001b[0m\n\u001b[1;32m      6\u001b[0m \u001b[0;34m\u001b[0m\u001b[0m\n\u001b[0;32m----> 7\u001b[0;31m \u001b[0mrect1\u001b[0m\u001b[0;34m=\u001b[0m\u001b[0mRectangle\u001b[0m\u001b[0;34m(\u001b[0m\u001b[0;34m)\u001b[0m\u001b[0;34m\u001b[0m\u001b[0;34m\u001b[0m\u001b[0m\n\u001b[0m\u001b[1;32m      8\u001b[0m \u001b[0mrect2\u001b[0m\u001b[0;34m=\u001b[0m\u001b[0mRectangle\u001b[0m\u001b[0;34m(\u001b[0m\u001b[0;34m)\u001b[0m\u001b[0;34m\u001b[0m\u001b[0;34m\u001b[0m\u001b[0m\n\u001b[1;32m      9\u001b[0m \u001b[0;34m\u001b[0m\u001b[0m\n",
      "\u001b[0;31mTypeError\u001b[0m: __init__() missing 2 required positional arguments: 'height' and 'width'"
     ]
    }
   ],
   "source": [
    "class Rectangle:\n",
    "    def __init__(self,height,width):\n",
    "        self.height=height\n",
    "        self.width=width\n",
    "        print(\"__init_is called\")\n",
    "\n",
    "rect1=Rectangle()\n",
    "rect2=Rectangle()\n",
    "\n",
    "rect1.height=20\n",
    "rect2.height=40\n",
    "\n",
    "rect1.width=40\n",
    "rect2.width=10\n",
    "\n",
    "print(rect1.height*rect1.width)"
   ]
  },
  {
   "cell_type": "code",
   "execution_count": 16,
   "id": "7cb173dd",
   "metadata": {},
   "outputs": [],
   "source": [
    " class Hello:\n",
    "        def __init__(self):pass   #invalid init methodbbb\n",
    "        def __init__(self,name):pass\n",
    "        \n",
    "hello=Hello(\"name\")"
   ]
  },
  {
   "cell_type": "code",
   "execution_count": 18,
   "id": "9dfee289",
   "metadata": {},
   "outputs": [
    {
     "ename": "TypeError",
     "evalue": "__init__() missing 2 required positional arguments: 'speed' and 'color'",
     "output_type": "error",
     "traceback": [
      "\u001b[0;31m---------------------------------------------------------------------------\u001b[0m",
      "\u001b[0;31mTypeError\u001b[0m                                 Traceback (most recent call last)",
      "\u001b[0;32m/tmp/ipykernel_3291/2846743879.py\u001b[0m in \u001b[0;36m<module>\u001b[0;34m\u001b[0m\n\u001b[1;32m     10\u001b[0m         \u001b[0;32mreturn\u001b[0m \u001b[0mself\u001b[0m\u001b[0;34m.\u001b[0m\u001b[0mspeed\u001b[0m\u001b[0;34m\u001b[0m\u001b[0;34m\u001b[0m\u001b[0m\n\u001b[1;32m     11\u001b[0m \u001b[0;34m\u001b[0m\u001b[0m\n\u001b[0;32m---> 12\u001b[0;31m \u001b[0mford\u001b[0m\u001b[0;34m=\u001b[0m\u001b[0mCar\u001b[0m\u001b[0;34m(\u001b[0m\u001b[0;34m)\u001b[0m\u001b[0;34m\u001b[0m\u001b[0;34m\u001b[0m\u001b[0m\n\u001b[0m\u001b[1;32m     13\u001b[0m \u001b[0mhonda\u001b[0m\u001b[0;34m=\u001b[0m\u001b[0mCar\u001b[0m\u001b[0;34m(\u001b[0m\u001b[0;34m)\u001b[0m\u001b[0;34m\u001b[0m\u001b[0;34m\u001b[0m\u001b[0m\n\u001b[1;32m     14\u001b[0m \u001b[0maudi\u001b[0m\u001b[0;34m=\u001b[0m\u001b[0mCar\u001b[0m\u001b[0;34m(\u001b[0m\u001b[0;34m)\u001b[0m\u001b[0;34m\u001b[0m\u001b[0;34m\u001b[0m\u001b[0m\n",
      "\u001b[0;31mTypeError\u001b[0m: __init__() missing 2 required positional arguments: 'speed' and 'color'"
     ]
    }
   ],
   "source": [
    "class Car:\n",
    "    def __init__(self,speed,color):\n",
    "        self.speed=speed\n",
    "        self.color=color\n",
    "        \n",
    "    def set_speed(self,value):\n",
    "        self.speed=value\n",
    "        \n",
    "    def get_speed(self):\n",
    "        return self.speed\n",
    "    \n",
    "ford=Car()\n",
    "honda=Car()\n",
    "audi=Car()\n",
    "\n",
    "ford.set_speed(300)\n",
    "print(ford.get_speed())\n"
   ]
  },
  {
   "cell_type": "code",
   "execution_count": null,
   "id": "189a1d82",
   "metadata": {},
   "outputs": [],
   "source": []
  }
 ],
 "metadata": {
  "kernelspec": {
   "display_name": "Python 3",
   "language": "python",
   "name": "python3"
  },
  "language_info": {
   "codemirror_mode": {
    "name": "ipython",
    "version": 3
   },
   "file_extension": ".py",
   "mimetype": "text/x-python",
   "name": "python",
   "nbconvert_exporter": "python",
   "pygments_lexer": "ipython3",
   "version": "3.9.15"
  }
 },
 "nbformat": 4,
 "nbformat_minor": 5
}
